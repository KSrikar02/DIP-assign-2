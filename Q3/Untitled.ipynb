{
 "cells": [
  {
   "cell_type": "code",
   "execution_count": 1,
   "id": "d128c4b0",
   "metadata": {},
   "outputs": [
    {
     "name": "stdout",
     "output_type": "stream",
     "text": [
      "Compression ratio: 9.59\n"
     ]
    }
   ],
   "source": [
    "import cv2\n",
    "import numpy as np\n",
    "\n",
    "# Load the X-ray image\n",
    "img = cv2.imread(r\"C:\\Users\\umasr\\Downloads\\xray.png\", cv2.IMREAD_GRAYSCALE)\n",
    "\n",
    "# Define the quality factor for JPEG compression (0-100)\n",
    "quality = 90\n",
    "\n",
    "# Perform JPEG compression on the image\n",
    "encode_param = [int(cv2.IMWRITE_JPEG_QUALITY), quality]\n",
    "result, encimg = cv2.imencode('.jpg', img, encode_param)\n",
    "\n",
    "# Decode the compressed image\n",
    "decimg = cv2.imdecode(encimg, cv2.IMREAD_GRAYSCALE)\n",
    "\n",
    "# Calculate the compression ratio\n",
    "original_size = img.shape[0] * img.shape[1]\n",
    "compressed_size = len(encimg)\n",
    "compression_ratio = original_size / compressed_size\n",
    "\n",
    "# Save the compressed image\n",
    "cv2.imwrite('compressed_xray_image.jpg', decimg)\n",
    "\n",
    "# Print the compression ratio\n",
    "print(\"Compression ratio: %.2f\" % compression_ratio)\n"
   ]
  },
  {
   "cell_type": "code",
   "execution_count": null,
   "id": "91a6730e",
   "metadata": {},
   "outputs": [],
   "source": []
  }
 ],
 "metadata": {
  "kernelspec": {
   "display_name": "Python 3 (ipykernel)",
   "language": "python",
   "name": "python3"
  },
  "language_info": {
   "codemirror_mode": {
    "name": "ipython",
    "version": 3
   },
   "file_extension": ".py",
   "mimetype": "text/x-python",
   "name": "python",
   "nbconvert_exporter": "python",
   "pygments_lexer": "ipython3",
   "version": "3.9.13"
  }
 },
 "nbformat": 4,
 "nbformat_minor": 5
}
