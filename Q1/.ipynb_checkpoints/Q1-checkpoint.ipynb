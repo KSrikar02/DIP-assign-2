{
 "cells": [
  {
   "cell_type": "code",
   "execution_count": 3,
   "id": "e7e04c29",
   "metadata": {},
   "outputs": [
    {
     "name": "stdout",
     "output_type": "stream",
     "text": [
      "SNR values:\n",
      "Median filter: 20.176745620761302\n",
      "Max filter: 8.122283038024056\n",
      "Min filter: 9.51246104683879\n",
      "Alpha-trimmed mean filter: 16.25014361042584\n",
      "RMSE values:\n",
      "Median filter: 1.017037216780872\n",
      "Max filter: 4.074365395588621\n",
      "Min filter: 3.471771024422623\n",
      "Alpha-trimmed mean filter: 1.598331821561595\n"
     ]
    }
   ],
   "source": [
    "import cv2\n",
    "import numpy as np\n",
    "\n",
    "# Read the original and noisy images\n",
    "img = cv2.imread(r\"C:\\Users\\umasr\\Downloads\\xray.png\", 0)\n",
    "noisy_img = cv2.imread(r\"C:\\Users\\umasr\\Downloads\\xray_sp.png\", 0)\n",
    "\n",
    "# Apply median filter\n",
    "median = cv2.medianBlur(noisy_img, 3)\n",
    "\n",
    "# Apply max filter\n",
    "max = cv2.dilate(noisy_img, np.ones((3,3)), iterations=1)\n",
    "\n",
    "# Apply min filter\n",
    "min = cv2.erode(noisy_img, np.ones((3,3)), iterations=1)\n",
    "\n",
    "# Apply alpha-trimmed mean filter\n",
    "atm = cv2.blur(noisy_img, (3,3))\n",
    "atm = cv2.subtract(noisy_img, atm)\n",
    "atm = cv2.addWeighted(noisy_img, 1, atm, 1, 0)\n",
    "\n",
    "# Calculate SNR and RMSE values for the filtered images\n",
    "#formula SNR = 10 * log10(P_signal / P_noise), where P_signal is the power of the signal and P_noise is the power of the noise\n",
    "snr_median = 10 * np.log10(np.mean(img ** 2) / np.mean((img - median) ** 2))\n",
    "snr_max = 10 * np.log10(np.mean(img ** 2) / np.mean((img - max) ** 2))\n",
    "snr_min = 10 * np.log10(np.mean(img ** 2) / np.mean((img - min) ** 2))\n",
    "snr_atm = 10 * np.log10(np.mean(img ** 2) / np.mean((img - atm) ** 2))\n",
    "\n",
    "#Calculate RMSE for each filtered image using the formula RMSE = sqrt(sum((I_original - I_filtered)^2) / N), \n",
    "#where I_original is the original image, I_filtered is the filtered image, and N is the total number of pixels in the image.\n",
    "rmse_median = np.sqrt(np.mean((img - median) ** 2))\n",
    "rmse_max = np.sqrt(np.mean((img - max) ** 2))\n",
    "rmse_min = np.sqrt(np.mean((img - min) ** 2))\n",
    "rmse_atm = np.sqrt(np.mean((img - atm) ** 2))\n",
    "\n",
    "print('SNR values:')\n",
    "print('Median filter:', snr_median)\n",
    "print('Max filter:', snr_max)\n",
    "print('Min filter:', snr_min)\n",
    "print('Alpha-trimmed mean filter:', snr_atm)\n",
    "\n",
    "print('RMSE values:')\n",
    "print('Median filter:', rmse_median)\n",
    "print('Max filter:', rmse_max)\n",
    "print('Min filter:', rmse_min)\n",
    "print('Alpha-trimmed mean filter:', rmse_atm)\n"
   ]
  },
  {
   "cell_type": "code",
   "execution_count": null,
   "id": "5d525d57",
   "metadata": {},
   "outputs": [],
   "source": []
  }
 ],
 "metadata": {
  "kernelspec": {
   "display_name": "Python 3 (ipykernel)",
   "language": "python",
   "name": "python3"
  },
  "language_info": {
   "codemirror_mode": {
    "name": "ipython",
    "version": 3
   },
   "file_extension": ".py",
   "mimetype": "text/x-python",
   "name": "python",
   "nbconvert_exporter": "python",
   "pygments_lexer": "ipython3",
   "version": "3.9.13"
  }
 },
 "nbformat": 4,
 "nbformat_minor": 5
}
